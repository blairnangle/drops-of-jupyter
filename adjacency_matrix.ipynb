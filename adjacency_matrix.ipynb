{
 "cells": [
  {
   "cell_type": "markdown",
   "source": [
    "# Building an adjacency matrix from a 2-D grid"
   ],
   "metadata": {
    "collapsed": false
   }
  },
  {
   "cell_type": "markdown",
   "source": [],
   "metadata": {
    "collapsed": false
   }
  },
  {
   "cell_type": "markdown",
   "source": [
    "Suppose we have the following 2x2 grid (map) represented by a two-dimensional array:"
   ],
   "metadata": {
    "collapsed": false
   }
  },
  {
   "cell_type": "code",
   "execution_count": 15,
   "metadata": {
    "collapsed": true
   },
   "outputs": [],
   "source": [
    "import numpy as np\n",
    "\n",
    "just_a_grid = np.array([[\"a\", \"b\"],\n",
    "                        [\"c\", \"d\"]])"
   ]
  },
  {
   "cell_type": "markdown",
   "source": [
    "At the moment, this is not a graph as there are no rules to tell us which other nodes each node can reach.\n",
    "\n",
    "We are going to apply a rule to transform our array into a **unweighted**, **directional** graph.\n",
    "\n",
    "Our rule will be:\n",
    "\n",
    "*Nodes can reach directly neighbouring nodes (immediately left, right, above or below) if the neighbouring node is lower, equal to or one place higher in the alphabet than the current node. The current node can reach itself.*\n",
    "\n",
    "### Examples\n",
    "\n",
    "- a can reach a, b\n",
    "- b can reach a, b, c\n",
    "- c can reach a, b, c, d"
   ],
   "metadata": {
    "collapsed": false
   }
  },
  {
   "cell_type": "markdown",
   "source": [
    "Suppose we have the following arrangement of nodes:\n",
    "\n",
    "```\n",
    "a b\n",
    "c d\n",
    "```"
   ],
   "metadata": {
    "collapsed": false
   }
  },
  {
   "cell_type": "markdown",
   "source": [
    "The goal is to construct an [adjacency matrix](https://en.wikipedia.org/wiki/Adjacency_matrix) that tells us whether each node on a directed graph is reachable from the current node.\n",
    "\n",
    "Our adjacency matrix will be the square of the dimensions of our original grid—each node has a relationship with each other node in the grid.\n",
    "\n",
    "The first column in the adjacency matrix based on the 2x2 grid above (and our rule) we would expect to see is:\n",
    "\n",
    "```\n",
    "1\n",
    "1\n",
    "0\n",
    "0\n",
    "```\n",
    "\n",
    "Which says: `a` can reach itself and `b`, but cannot reach `c` or `d`.\n",
    "\n",
    "Completing the matrix we get:\n",
    "\n",
    "```\n",
    "1 1 1 0\n",
    "1 1 0 1\n",
    "0 0 1 1\n",
    "0 0 1 1\n",
    "```"
   ],
   "metadata": {
    "collapsed": false
   }
  },
  {
   "cell_type": "markdown",
   "source": [
    "For larger grids it should be obvious that the adjacency matrix will end up being mostly zeroes as the most other nodes a node can reach is four.\n",
    "\n",
    "We can create a function to take a grid and rule and return the resultant adjacency matrix.\n",
    "\n",
    "Rough outline of the function:\n",
    "- Take a NumPy array (the grid) and a comparator function as arguments\n",
    "- Create a zeroed Pandas DataFrame (the adjacency matrix)\n",
    "- Loop through each row in the grid\n",
    "- Loop through each node in each row\n",
    "- For each node, determine if itself, the nodes above, below, to the left and to the right can be reached based on the comparator function that was passed in and, if so, update the appropriate position in the adjacency matrix with a `1`\n",
    "\n",
    "The function might look something like:"
   ],
   "metadata": {
    "collapsed": false
   }
  },
  {
   "cell_type": "markdown",
   "source": [],
   "metadata": {
    "collapsed": false
   }
  },
  {
   "cell_type": "code",
   "execution_count": 16,
   "outputs": [],
   "source": [
    "from typing import Callable\n",
    "import pandas as pd\n",
    "\n",
    "\n",
    "def build_adjacency_matrix(grid: np.array, reachability_calculator: Callable) -> pd.DataFrame:\n",
    "    height = len(grid)\n",
    "    width = grid.size / height\n",
    "    adjacency_matrix = pd.DataFrame(0, columns=grid.flatten(), index=grid.flatten())\n",
    "    np.fill_diagonal(adjacency_matrix.values, 1)\n",
    "    for row_idx, row in enumerate(grid):\n",
    "        for col_idx, node in enumerate(row):\n",
    "            if reachability_calculator(node, node):\n",
    "                adjacency_matrix[node][node] = 1\n",
    "            if col_idx != 0:\n",
    "                node_to_left = grid[row_idx, col_idx - 1]\n",
    "                if reachability_calculator(node, node_to_left):\n",
    "                    adjacency_matrix[node][node_to_left] = 1\n",
    "            if col_idx < width - 1:\n",
    "                node_to_right = grid[row_idx, col_idx + 1]\n",
    "                if reachability_calculator(node, node_to_right):\n",
    "                    adjacency_matrix[node][node_to_right] = 1\n",
    "            if row_idx != 0:\n",
    "                node_above = grid[row_idx - 1, col_idx]\n",
    "                if reachability_calculator(node, node_above):\n",
    "                    adjacency_matrix[node][node_above] = 1\n",
    "            if row_idx < height - 1:\n",
    "                node_below = grid[row_idx + 1, col_idx]\n",
    "                if reachability_calculator(node, node_below):\n",
    "                    adjacency_matrix[node][node_below] = 1\n",
    "\n",
    "    return adjacency_matrix"
   ],
   "metadata": {
    "collapsed": false
   }
  },
  {
   "cell_type": "markdown",
   "source": [
    "And our `reachability_calculator` function, based on our rule above might be:"
   ],
   "metadata": {
    "collapsed": false
   }
  },
  {
   "cell_type": "code",
   "execution_count": 17,
   "outputs": [],
   "source": [
    "def can_reach(current_val, neighbour_val):\n",
    "    return ord(current_val) + 1 >= ord(neighbour_val)"
   ],
   "metadata": {
    "collapsed": false
   }
  },
  {
   "cell_type": "markdown",
   "source": [
    "Testing our function:"
   ],
   "metadata": {
    "collapsed": false
   }
  },
  {
   "cell_type": "code",
   "execution_count": 18,
   "outputs": [
    {
     "name": "stderr",
     "output_type": "stream",
     "text": [
      "test_constructing_adjacency_matrix (__main__.TestNotebook.test_constructing_adjacency_matrix) ... ok\n",
      "\n",
      "----------------------------------------------------------------------\n",
      "Ran 1 test in 0.006s\n",
      "\n",
      "OK\n"
     ]
    },
    {
     "data": {
      "text/plain": "<unittest.main.TestProgram at 0x118bd8290>"
     },
     "execution_count": 18,
     "metadata": {},
     "output_type": "execute_result"
    }
   ],
   "source": [
    "import unittest\n",
    "\n",
    "\n",
    "class TestNotebook(unittest.TestCase):\n",
    "\n",
    "    def test_constructing_adjacency_matrix(self):\n",
    "        grid = np.array([[\"a\", \"b\"],\n",
    "                         [\"c\", \"d\"]])\n",
    "\n",
    "        assert build_adjacency_matrix(grid=grid, reachability_calculator=can_reach).equals(pd.DataFrame([\n",
    "            [1, 1, 1, 0],\n",
    "            [1, 1, 0, 1],\n",
    "            [0, 0, 1, 1],\n",
    "            [0, 0, 1, 1],\n",
    "        ], columns=grid.flatten(), index=grid.flatten()))\n",
    "\n",
    "\n",
    "unittest.main(argv=[''], verbosity=2, exit=False)"
   ],
   "metadata": {
    "collapsed": false
   }
  },
  {
   "cell_type": "markdown",
   "source": [
    "Applying our function to a larger grid, we see that the adjacency matrix quickly becomes very large and, as mentioned above, is pretty sparse:\n"
   ],
   "metadata": {
    "collapsed": false
   }
  },
  {
   "cell_type": "code",
   "execution_count": 19,
   "outputs": [
    {
     "name": "stdout",
     "output_type": "stream",
     "text": [
      "   a  b  c  d  e  f  g  h  i\n",
      "a  1  1  0  1  0  0  0  0  0\n",
      "b  1  1  1  0  1  0  0  0  0\n",
      "c  0  1  1  0  0  1  0  0  0\n",
      "d  0  0  0  1  1  0  1  0  0\n",
      "e  0  0  0  1  1  1  0  1  0\n",
      "f  0  0  0  0  1  1  0  0  1\n",
      "g  0  0  0  0  0  0  1  1  0\n",
      "h  0  0  0  0  0  0  1  1  1\n",
      "i  0  0  0  0  0  0  0  1  1\n"
     ]
    }
   ],
   "source": [
    "slightly_larger_grid = np.array([[\"a\", \"b\", \"c\"],\n",
    "                                 [\"d\", \"e\", \"f\"],\n",
    "                                 [\"g\", \"h\", \"i\"]])\n",
    "\n",
    "adj_matrix = build_adjacency_matrix(grid=slightly_larger_grid, reachability_calculator=can_reach)\n",
    "\n",
    "print(adj_matrix)"
   ],
   "metadata": {
    "collapsed": false
   }
  },
  {
   "cell_type": "markdown",
   "source": [
    "Also note that for simplicity we have just named the columns and row indices according to the letter of the node. A more sophisticated naming strategy would be required for anything more complex."
   ],
   "metadata": {
    "collapsed": false
   }
  }
 ],
 "metadata": {
  "kernelspec": {
   "display_name": "Python 3",
   "language": "python",
   "name": "python3"
  },
  "language_info": {
   "codemirror_mode": {
    "name": "ipython",
    "version": 2
   },
   "file_extension": ".py",
   "mimetype": "text/x-python",
   "name": "python",
   "nbconvert_exporter": "python",
   "pygments_lexer": "ipython2",
   "version": "2.7.6"
  }
 },
 "nbformat": 4,
 "nbformat_minor": 0
}
