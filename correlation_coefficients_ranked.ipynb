{
 "cells": [
  {
   "cell_type": "markdown",
   "source": [
    "# Ranking correlation coefficients"
   ],
   "metadata": {
    "collapsed": false
   }
  },
  {
   "cell_type": "markdown",
   "source": [
    "Let's start by defining an initial `DataFrame` with some made up data:"
   ],
   "metadata": {
    "collapsed": false
   }
  },
  {
   "cell_type": "code",
   "execution_count": 95,
   "metadata": {
    "collapsed": true
   },
   "outputs": [],
   "source": [
    "import pandas as pd\n",
    "from pandas import DataFrame\n",
    "\n",
    "df_initial: DataFrame = pd.DataFrame([\n",
    "    {\n",
    "        \"price\": 1,\n",
    "        \"quantity\": 7,\n",
    "        \"rating\": 75,\n",
    "        \"weight\": 504\n",
    "    },\n",
    "    {\n",
    "        \"price\": 2,\n",
    "        \"quantity\": 20,\n",
    "        \"rating\": 23,\n",
    "        \"weight\": 220\n",
    "    },\n",
    "    {\n",
    "        \"price\": 3,\n",
    "        \"quantity\": 34,\n",
    "        \"rating\": 11,\n",
    "        \"weight\": 360\n",
    "    },\n",
    "    {\n",
    "        \"price\": 4,\n",
    "        \"quantity\": 39,\n",
    "        \"rating\": 63,\n",
    "        \"weight\": 250\n",
    "    },\n",
    "    {\n",
    "        \"price\": 5,\n",
    "        \"quantity\": 52,\n",
    "        \"rating\": 77,\n",
    "        \"weight\": 95\n",
    "    }\n",
    "])"
   ]
  },
  {
   "cell_type": "markdown",
   "source": [
    "Get the matrix of correlation coefficients for each feature-pair:"
   ],
   "metadata": {
    "collapsed": false
   }
  },
  {
   "cell_type": "code",
   "execution_count": 96,
   "outputs": [
    {
     "name": "stdout",
     "output_type": "stream",
     "text": [
      "             price  quantity    rating    weight\n",
      "price     1.000000  0.991237  0.226527 -0.807906\n",
      "quantity  0.991237  1.000000  0.117234 -0.800305\n",
      "rating    0.226527  0.117234  1.000000 -0.067521\n",
      "weight   -0.807906 -0.800305 -0.067521  1.000000\n"
     ]
    }
   ],
   "source": [
    "correlations: DataFrame = df_initial.corr(numeric_only=True)\n",
    "\n",
    "print(correlations)\n"
   ],
   "metadata": {
    "collapsed": false
   }
  },
  {
   "cell_type": "markdown",
   "source": [
    "Notice that the matrix diagonal is all `1`s. Also notice that above and below the diagonal are identical (*Feature A's* correlation with *Feature B* is equal to *Feature B's* correlation with *Feature A*).\n",
    "\n",
    "Knowing that *Feature A* is perfectly correlated with itself isn't particularly interesting to us, so we want to transform our coefficients matrix so that only the relevant coefficients (without duplicates) have nonzero values.\n",
    "\n",
    "We do this by using a NumPy method to set all values below the diagonal to zero (note that a `triu` returns an `array`, not a Pandas `DataFrame`, so we need to construct a new `DataFrame`):"
   ],
   "metadata": {
    "collapsed": false
   }
  },
  {
   "cell_type": "code",
   "execution_count": 97,
   "outputs": [
    {
     "name": "stdout",
     "output_type": "stream",
     "text": [
      "          price  quantity    rating    weight\n",
      "price       1.0  0.991237  0.226527 -0.807906\n",
      "quantity    0.0  1.000000  0.117234 -0.800305\n",
      "rating      0.0  0.000000  1.000000 -0.067521\n",
      "weight      0.0  0.000000  0.000000  1.000000\n"
     ]
    }
   ],
   "source": [
    "import numpy as np\n",
    "\n",
    "correlations_upper: DataFrame = pd.DataFrame(np.triu(correlations.values), index=correlations.index, columns=correlations.columns)\n",
    "\n",
    "print(correlations_upper)\n"
   ],
   "metadata": {
    "collapsed": false
   }
  },
  {
   "cell_type": "markdown",
   "source": [
    "We can then use another NumPy method to set all diagonal values to zero:"
   ],
   "metadata": {
    "collapsed": false
   }
  },
  {
   "cell_type": "code",
   "execution_count": 98,
   "outputs": [
    {
     "name": "stdout",
     "output_type": "stream",
     "text": [
      "          price  quantity    rating    weight\n",
      "price       0.0  0.991237  0.226527 -0.807906\n",
      "quantity    0.0  0.000000  0.117234 -0.800305\n",
      "rating      0.0  0.000000  0.000000 -0.067521\n",
      "weight      0.0  0.000000  0.000000  0.000000\n"
     ]
    }
   ],
   "source": [
    "np.fill_diagonal(correlations_upper.values, 0)\n",
    "\n",
    "print(correlations_upper)\n"
   ],
   "metadata": {
    "collapsed": false
   }
  },
  {
   "cell_type": "markdown",
   "source": [
    "To rank our coefficients, we care about absolute values, so we should take the modulo of each element in our `array`:"
   ],
   "metadata": {
    "collapsed": false
   }
  },
  {
   "cell_type": "code",
   "execution_count": 99,
   "outputs": [
    {
     "name": "stdout",
     "output_type": "stream",
     "text": [
      "          price  quantity    rating    weight\n",
      "price       0.0  0.991237  0.226527  0.807906\n",
      "quantity    0.0  0.000000  0.117234  0.800305\n",
      "rating      0.0  0.000000  0.000000  0.067521\n",
      "weight      0.0  0.000000  0.000000  0.000000\n"
     ]
    }
   ],
   "source": [
    "correlations_positive: DataFrame = abs(correlations_upper)\n",
    "\n",
    "print(correlations_positive)\n"
   ],
   "metadata": {
    "collapsed": false
   }
  },
  {
   "cell_type": "markdown",
   "source": [
    "Now, we can unstack our `DataFrame` so that all the cell values are contained with a single column (and are easily sortable):"
   ],
   "metadata": {
    "collapsed": false
   }
  },
  {
   "cell_type": "code",
   "execution_count": 100,
   "outputs": [
    {
     "name": "stdout",
     "output_type": "stream",
     "text": [
      "price     price       0.000000\n",
      "          quantity    0.000000\n",
      "          rating      0.000000\n",
      "          weight      0.000000\n",
      "quantity  price       0.991237\n",
      "          quantity    0.000000\n",
      "          rating      0.000000\n",
      "          weight      0.000000\n",
      "rating    price       0.226527\n",
      "          quantity    0.117234\n",
      "          rating      0.000000\n",
      "          weight      0.000000\n",
      "weight    price       0.807906\n",
      "          quantity    0.800305\n",
      "          rating      0.067521\n",
      "          weight      0.000000\n",
      "dtype: float64\n"
     ]
    }
   ],
   "source": [
    "from pandas import Series\n",
    "\n",
    "correlations_unstacked: Series = correlations_positive.unstack()\n",
    "\n",
    "print(correlations_unstacked)\n"
   ],
   "metadata": {
    "collapsed": false
   }
  },
  {
   "cell_type": "markdown",
   "source": [
    "We can now sort the feature-pairs by correlation coefficient:"
   ],
   "metadata": {
    "collapsed": false
   }
  },
  {
   "cell_type": "code",
   "execution_count": 101,
   "outputs": [
    {
     "name": "stdout",
     "output_type": "stream",
     "text": [
      "quantity  price       0.991237\n",
      "weight    price       0.807906\n",
      "          quantity    0.800305\n",
      "rating    price       0.226527\n",
      "          quantity    0.117234\n",
      "weight    rating      0.067521\n",
      "price     price       0.000000\n",
      "          quantity    0.000000\n",
      "          rating      0.000000\n",
      "          weight      0.000000\n",
      "quantity  quantity    0.000000\n",
      "          rating      0.000000\n",
      "          weight      0.000000\n",
      "rating    rating      0.000000\n",
      "          weight      0.000000\n",
      "weight    weight      0.000000\n",
      "dtype: float64\n"
     ]
    }
   ],
   "source": [
    "correlations_sorted: Series = correlations_unstacked.sort_values(ascending=False)\n",
    "\n",
    "print(correlations_sorted)\n"
   ],
   "metadata": {
    "collapsed": false
   }
  },
  {
   "cell_type": "markdown",
   "source": [
    "Wrapping this in a function that takes some parameters we have:"
   ],
   "metadata": {
    "collapsed": false
   }
  },
  {
   "cell_type": "code",
   "execution_count": 102,
   "outputs": [
    {
     "name": "stdout",
     "output_type": "stream",
     "text": [
      "quantity  price    0.991237\n",
      "weight    price    0.807906\n",
      "dtype: float64\n"
     ]
    }
   ],
   "source": [
    "import numpy as np\n",
    "\n",
    "def get_n_correlation_pairs_above_threshold(df: DataFrame, n: int, threshold: float):\n",
    "    corrs = df.corr(numeric_only=True)\n",
    "    corrs_upper = pd.DataFrame(np.triu(corrs.values), index=corrs.index, columns=corrs.columns)\n",
    "    np.fill_diagonal(corrs_upper.values, 0)\n",
    "    corrs_positive = abs(corrs_upper)\n",
    "    corrs_unstacked = corrs_positive.unstack()\n",
    "    corrs_sorted = corrs_unstacked.sort_values(ascending=False)\n",
    "\n",
    "    return corrs_sorted.where(lambda coefficient: coefficient > threshold)[0:n]\n",
    "\n",
    "\n",
    "print(get_n_correlation_pairs_above_threshold(df=df_initial, n=2, threshold=0.75))\n"
   ],
   "metadata": {
    "collapsed": false
   }
  }
 ],
 "metadata": {
  "kernelspec": {
   "display_name": "Python 3",
   "language": "python",
   "name": "python3"
  },
  "language_info": {
   "codemirror_mode": {
    "name": "ipython",
    "version": 2
   },
   "file_extension": ".py",
   "mimetype": "text/x-python",
   "name": "python",
   "nbconvert_exporter": "python",
   "pygments_lexer": "ipython2",
   "version": "2.7.6"
  }
 },
 "nbformat": 4,
 "nbformat_minor": 0
}
