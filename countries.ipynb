{
 "cells": [
  {
   "cell_type": "markdown",
   "source": [
    "# One-hot encode countries by continent\n",
    "\n",
    "Given a dataframe with [ISO 3166 country codes](https://en.wikipedia.org/wiki/List_of_ISO_3166_country_codes), one-hot encode each row by continent.\n",
    "\n",
    "Gracefully handle countries that can't be found."
   ],
   "metadata": {
    "collapsed": false
   }
  },
  {
   "cell_type": "markdown",
   "source": [
    "Create a data frame with some fake data:"
   ],
   "metadata": {
    "collapsed": false
   }
  },
  {
   "cell_type": "code",
   "execution_count": 44,
   "metadata": {
    "collapsed": true
   },
   "outputs": [
    {
     "name": "stdout",
     "output_type": "stream",
     "text": [
      "        country  price  quantity\n",
      "0            DE      1        10\n",
      "1            AU      2        20\n",
      "2           USA      3        30\n",
      "3     Singapore      4        40\n",
      "4  Gobbledygook      5        50\n"
     ]
    }
   ],
   "source": [
    "import pandas as pd\n",
    "from pandas import DataFrame\n",
    "\n",
    "df_initial: DataFrame = pd.DataFrame([\n",
    "    {\n",
    "        \"country\": \"DE\",\n",
    "        \"price\": 1,\n",
    "        \"quantity\": 10\n",
    "    },\n",
    "    {\n",
    "        \"country\": \"AU\",\n",
    "        \"price\": 2,\n",
    "        \"quantity\": 20\n",
    "    },\n",
    "    {\n",
    "        \"country\": \"USA\",\n",
    "        \"price\": 3,\n",
    "        \"quantity\": 30\n",
    "    },\n",
    "    {\n",
    "        \"country\": \"Singapore\",\n",
    "        \"price\": 4,\n",
    "        \"quantity\": 40\n",
    "    },\n",
    "    {\n",
    "        \"country\": \"Gobbledygook\",\n",
    "        \"price\": 5,\n",
    "        \"quantity\": 50\n",
    "    }\n",
    "])\n",
    "\n",
    "print(df_initial.head())"
   ]
  },
  {
   "cell_type": "markdown",
   "source": [
    "Use the `countryinfo` library to map country code to continent (note that `CountryInfo` can handle various country code/name formats):"
   ],
   "metadata": {
    "collapsed": false
   }
  },
  {
   "cell_type": "code",
   "execution_count": 45,
   "outputs": [
    {
     "name": "stdout",
     "output_type": "stream",
     "text": [
      "unable to find country using country code/name <countryinfo.countryinfo.CountryInfo object at 0x11ef54e50>, returning unclassified as continent\n"
     ]
    },
    {
     "data": {
      "text/plain": "   price  quantity     continent\n0      1        10        Europe\n1      2        20       Oceania\n2      3        30      Americas\n3      4        40          Asia\n4      5        50  unclassified",
      "text/html": "<div>\n<style scoped>\n    .dataframe tbody tr th:only-of-type {\n        vertical-align: middle;\n    }\n\n    .dataframe tbody tr th {\n        vertical-align: top;\n    }\n\n    .dataframe thead th {\n        text-align: right;\n    }\n</style>\n<table border=\"1\" class=\"dataframe\">\n  <thead>\n    <tr style=\"text-align: right;\">\n      <th></th>\n      <th>price</th>\n      <th>quantity</th>\n      <th>continent</th>\n    </tr>\n  </thead>\n  <tbody>\n    <tr>\n      <th>0</th>\n      <td>1</td>\n      <td>10</td>\n      <td>Europe</td>\n    </tr>\n    <tr>\n      <th>1</th>\n      <td>2</td>\n      <td>20</td>\n      <td>Oceania</td>\n    </tr>\n    <tr>\n      <th>2</th>\n      <td>3</td>\n      <td>30</td>\n      <td>Americas</td>\n    </tr>\n    <tr>\n      <th>3</th>\n      <td>4</td>\n      <td>40</td>\n      <td>Asia</td>\n    </tr>\n    <tr>\n      <th>4</th>\n      <td>5</td>\n      <td>50</td>\n      <td>unclassified</td>\n    </tr>\n  </tbody>\n</table>\n</div>"
     },
     "execution_count": 45,
     "metadata": {},
     "output_type": "execute_result"
    }
   ],
   "source": [
    "from countryinfo import CountryInfo\n",
    "\n",
    "\n",
    "def country_to_continent(country: str) -> str:\n",
    "    country: CountryInfo = CountryInfo(country_name=country)\n",
    "    try:\n",
    "        return country.info()[\"region\"]\n",
    "    except KeyError:\n",
    "        unclassified: str = \"unclassified\"\n",
    "        print(f\"unable to find country using country code/name {country}, returning {unclassified} as continent\")\n",
    "\n",
    "        return unclassified\n",
    "\n",
    "\n",
    "df_with_continent: DataFrame = df_initial.assign(continent=df_initial[\"country\"].map(lambda c: country_to_continent(c))).drop(\"country\", axis=1)\n",
    "\n",
    "df_with_continent.head()"
   ],
   "metadata": {
    "collapsed": false
   }
  },
  {
   "cell_type": "markdown",
   "source": [
    "One-hot encode by continent before removing the continent column:"
   ],
   "metadata": {
    "collapsed": false
   }
  },
  {
   "cell_type": "code",
   "execution_count": 46,
   "outputs": [
    {
     "data": {
      "text/plain": "   price  quantity  Americas  Asia  Europe  Oceania  unclassified\n0      1        10         0     0       1        0             0\n1      2        20         0     0       0        1             0\n2      3        30         1     0       0        0             0\n3      4        40         0     1       0        0             0\n4      5        50         0     0       0        0             1",
      "text/html": "<div>\n<style scoped>\n    .dataframe tbody tr th:only-of-type {\n        vertical-align: middle;\n    }\n\n    .dataframe tbody tr th {\n        vertical-align: top;\n    }\n\n    .dataframe thead th {\n        text-align: right;\n    }\n</style>\n<table border=\"1\" class=\"dataframe\">\n  <thead>\n    <tr style=\"text-align: right;\">\n      <th></th>\n      <th>price</th>\n      <th>quantity</th>\n      <th>Americas</th>\n      <th>Asia</th>\n      <th>Europe</th>\n      <th>Oceania</th>\n      <th>unclassified</th>\n    </tr>\n  </thead>\n  <tbody>\n    <tr>\n      <th>0</th>\n      <td>1</td>\n      <td>10</td>\n      <td>0</td>\n      <td>0</td>\n      <td>1</td>\n      <td>0</td>\n      <td>0</td>\n    </tr>\n    <tr>\n      <th>1</th>\n      <td>2</td>\n      <td>20</td>\n      <td>0</td>\n      <td>0</td>\n      <td>0</td>\n      <td>1</td>\n      <td>0</td>\n    </tr>\n    <tr>\n      <th>2</th>\n      <td>3</td>\n      <td>30</td>\n      <td>1</td>\n      <td>0</td>\n      <td>0</td>\n      <td>0</td>\n      <td>0</td>\n    </tr>\n    <tr>\n      <th>3</th>\n      <td>4</td>\n      <td>40</td>\n      <td>0</td>\n      <td>1</td>\n      <td>0</td>\n      <td>0</td>\n      <td>0</td>\n    </tr>\n    <tr>\n      <th>4</th>\n      <td>5</td>\n      <td>50</td>\n      <td>0</td>\n      <td>0</td>\n      <td>0</td>\n      <td>0</td>\n      <td>1</td>\n    </tr>\n  </tbody>\n</table>\n</div>"
     },
     "execution_count": 46,
     "metadata": {},
     "output_type": "execute_result"
    }
   ],
   "source": [
    "one_hot_continent: DataFrame = pd.get_dummies(df_with_continent[\"continent\"])\n",
    "df_with_one_hot_continent: DataFrame = df_with_continent.join(one_hot_continent).drop(\"continent\", axis=1)\n",
    "\n",
    "df_with_one_hot_continent.head()"
   ],
   "metadata": {
    "collapsed": false
   }
  }
 ],
 "metadata": {
  "kernelspec": {
   "display_name": "Python 3",
   "language": "python",
   "name": "python3"
  },
  "language_info": {
   "codemirror_mode": {
    "name": "ipython",
    "version": 2
   },
   "file_extension": ".py",
   "mimetype": "text/x-python",
   "name": "python",
   "nbconvert_exporter": "python",
   "pygments_lexer": "ipython2",
   "version": "2.7.6"
  }
 },
 "nbformat": 4,
 "nbformat_minor": 0
}
